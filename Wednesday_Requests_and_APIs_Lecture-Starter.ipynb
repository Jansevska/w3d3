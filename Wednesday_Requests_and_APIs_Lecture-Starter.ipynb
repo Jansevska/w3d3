{
 "cells": [
  {
   "cell_type": "markdown",
   "metadata": {},
   "source": [
    "# Python Requests"
   ]
  },
  {
   "cell_type": "markdown",
   "metadata": {},
   "source": [
    "## Tasks Today:\n",
    "\n",
    "   \n",
    "1) <b>Requests package</b> <br>\n",
    " &nbsp;&nbsp;&nbsp;&nbsp; a) pip install <br>\n",
    " &nbsp;&nbsp;&nbsp;&nbsp; b) requests.get <br>\n",
    " &nbsp;&nbsp;&nbsp;&nbsp; c) Response object <br>\n",
    " &nbsp;&nbsp;&nbsp;&nbsp; d) .content and .text <br>\n",
    " &nbsp;&nbsp;&nbsp;&nbsp; e) JSON <br>  \n",
    "2) <b>Python Wrapper</b> <br>\n",
    " &nbsp;&nbsp;&nbsp;&nbsp; a) API key and base url<br>\n",
    " &nbsp;&nbsp;&nbsp;&nbsp; b) Creating a class for our requests<br>\n",
    " &nbsp;&nbsp;&nbsp;&nbsp; c) Private method for getting the response data <br>\n",
    " &nbsp;&nbsp;&nbsp;&nbsp; d) Public method for displaying the data <br>\n",
    " &nbsp;&nbsp;&nbsp;&nbsp; e) In-Class Exercise #1 - Add a method for getting the high and lows for the next 3 days <br>\n",
    "3) <b>Exercises</b> <br>\n",
    " &nbsp;&nbsp;&nbsp;&nbsp; a) Exercise #1 - Pokemon Wrapper  <br>"
   ]
  },
  {
   "cell_type": "code",
   "execution_count": 1,
   "metadata": {},
   "outputs": [
    {
     "ename": "ModuleNotFoundError",
     "evalue": "No module named 'faker'",
     "output_type": "error",
     "traceback": [
      "\u001b[1;31m---------------------------------------------------------------------------\u001b[0m",
      "\u001b[1;31mModuleNotFoundError\u001b[0m                       Traceback (most recent call last)",
      "Cell \u001b[1;32mIn[1], line 1\u001b[0m\n\u001b[1;32m----> 1\u001b[0m \u001b[38;5;28;01mfrom\u001b[39;00m \u001b[38;5;21;01mfaker\u001b[39;00m \u001b[38;5;28;01mimport\u001b[39;00m Faker\n\u001b[0;32m      3\u001b[0m fake \u001b[38;5;241m=\u001b[39m Faker()\n",
      "\u001b[1;31mModuleNotFoundError\u001b[0m: No module named 'faker'"
     ]
    }
   ],
   "source": [
    "from faker import Faker\n",
    "\n",
    "fake = Faker()"
   ]
  },
  {
   "cell_type": "code",
   "execution_count": 4,
   "metadata": {},
   "outputs": [
    {
     "name": "stdout",
     "output_type": "stream",
     "text": [
      "Requirement already satisfied: Faker in c:\\users\\emili\\anaconda3\\lib\\site-packages (19.6.2)\n",
      "Requirement already satisfied: python-dateutil>=2.4 in c:\\users\\emili\\anaconda3\\lib\\site-packages (from Faker) (2.8.2)\n",
      "Requirement already satisfied: six>=1.5 in c:\\users\\emili\\anaconda3\\lib\\site-packages (from python-dateutil>=2.4->Faker) (1.16.0)\n"
     ]
    }
   ],
   "source": [
    "!pip install Faker\n"
   ]
  },
  {
   "cell_type": "code",
   "execution_count": 6,
   "metadata": {},
   "outputs": [],
   "source": [
    "from faker import Faker\n",
    "\n",
    "fake = Faker()"
   ]
  },
  {
   "cell_type": "code",
   "execution_count": 8,
   "metadata": {},
   "outputs": [
    {
     "name": "stdout",
     "output_type": "stream",
     "text": [
      "<faker.proxy.Faker object at 0x00000282C5EE74D0>\n"
     ]
    }
   ],
   "source": [
    "print(fake)"
   ]
  },
  {
   "cell_type": "code",
   "execution_count": 9,
   "metadata": {},
   "outputs": [
    {
     "data": {
      "text/plain": [
       "'Randy Duran'"
      ]
     },
     "execution_count": 9,
     "metadata": {},
     "output_type": "execute_result"
    }
   ],
   "source": [
    "fake.name()"
   ]
  },
  {
   "cell_type": "code",
   "execution_count": 10,
   "metadata": {
    "scrolled": false
   },
   "outputs": [],
   "source": [
    "data = []\n",
    "for _ in range(10):\n",
    "    first = fake.first_name()\n",
    "    last = fake.last_name()\n",
    "    person_info = {\n",
    "        'first_name': first,\n",
    "        'last_name': last,\n",
    "        'city': fake.city(),\n",
    "        'email': f'{first.lower()}.{last.lower()}@{fake.domain_name()}',\n",
    "        'occupation': {\n",
    "            'company': fake.company(),\n",
    "            'position': fake.job()\n",
    "        }\n",
    "    }\n",
    "    data.append(person_info)"
   ]
  },
  {
   "cell_type": "code",
   "execution_count": 11,
   "metadata": {},
   "outputs": [
    {
     "data": {
      "text/plain": [
       "[{'first_name': 'Nathan',\n",
       "  'last_name': 'Thomas',\n",
       "  'city': 'South Brian',\n",
       "  'email': 'nathan.thomas@gentry.com',\n",
       "  'occupation': {'company': 'Avery-Choi', 'position': 'Camera operator'}},\n",
       " {'first_name': 'Dean',\n",
       "  'last_name': 'Torres',\n",
       "  'city': 'Christopherland',\n",
       "  'email': 'dean.torres@myers.com',\n",
       "  'occupation': {'company': 'Perry Ltd', 'position': 'Designer, furniture'}},\n",
       " {'first_name': 'Joseph',\n",
       "  'last_name': 'Schultz',\n",
       "  'city': 'Port Chrisbury',\n",
       "  'email': 'joseph.schultz@buck-johnson.com',\n",
       "  'occupation': {'company': 'Williams-Grant', 'position': 'Network engineer'}},\n",
       " {'first_name': 'Jennifer',\n",
       "  'last_name': 'Blair',\n",
       "  'city': 'Kathrynmouth',\n",
       "  'email': 'jennifer.blair@buckley.com',\n",
       "  'occupation': {'company': 'Marshall-Rodriguez',\n",
       "   'position': 'Museum/gallery exhibitions officer'}},\n",
       " {'first_name': 'David',\n",
       "  'last_name': 'Kelly',\n",
       "  'city': 'Lake Kristenstad',\n",
       "  'email': 'david.kelly@daniel.info',\n",
       "  'occupation': {'company': 'Nash-Weber', 'position': 'Proofreader'}},\n",
       " {'first_name': 'Susan',\n",
       "  'last_name': 'Fisher',\n",
       "  'city': 'Jennifershire',\n",
       "  'email': 'susan.fisher@deleon.com',\n",
       "  'occupation': {'company': 'Cunningham and Sons',\n",
       "   'position': 'Nurse, mental health'}},\n",
       " {'first_name': 'Michael',\n",
       "  'last_name': 'Massey',\n",
       "  'city': 'Wilsonville',\n",
       "  'email': 'michael.massey@young.com',\n",
       "  'occupation': {'company': 'Velasquez Ltd',\n",
       "   'position': 'Engineer, structural'}},\n",
       " {'first_name': 'Alejandro',\n",
       "  'last_name': 'Watson',\n",
       "  'city': 'Griffithchester',\n",
       "  'email': 'alejandro.watson@bradford.com',\n",
       "  'occupation': {'company': 'Lee Group',\n",
       "   'position': 'Conservator, furniture'}},\n",
       " {'first_name': 'Ronnie',\n",
       "  'last_name': 'Butler',\n",
       "  'city': 'Jeffreyside',\n",
       "  'email': 'ronnie.butler@thompson.com',\n",
       "  'occupation': {'company': 'Hill-Johnson',\n",
       "   'position': 'Advertising art director'}},\n",
       " {'first_name': 'George',\n",
       "  'last_name': 'Peterson',\n",
       "  'city': 'Lake Jason',\n",
       "  'email': 'george.peterson@young.com',\n",
       "  'occupation': {'company': 'Thompson and Sons', 'position': 'Hydrologist'}}]"
      ]
     },
     "execution_count": 11,
     "metadata": {},
     "output_type": "execute_result"
    }
   ],
   "source": [
    "data"
   ]
  },
  {
   "cell_type": "markdown",
   "metadata": {},
   "source": [
    "#### Warm Up\n",
    "Write a function that takes in a name (first or last) and returns the position and company name of that person. If the user is not found, return -1"
   ]
  },
  {
   "cell_type": "code",
   "execution_count": null,
   "metadata": {},
   "outputs": [],
   "source": [
    "# Example 1\n",
    "# get_person_info('Adam')\n",
    "# Output: 'Records manager at Odom, Harper, and Allen'\n",
    "\n",
    "# Example 2\n",
    "# get_person_info('Burns')\n",
    "# Output: 'Applications developer at Sanders-Ryan'\n",
    "\n",
    "# Example 3\n",
    "# get_person_info('Alice')\n",
    "# Output: -1"
   ]
  },
  {
   "cell_type": "code",
   "execution_count": 14,
   "metadata": {},
   "outputs": [],
   "source": [
    "data = [\n",
    "    {\n",
    "        'first_name': 'Adam',\n",
    "        'last_name': 'Simpson',\n",
    "        'city': 'West Maureenland',\n",
    "        'email': 'adam.simpson@paul-williams.com',\n",
    "        'occupation': {\n",
    "            'company': 'Odom, Harper and Allen',\n",
    "            'position': 'Records manager'\n",
    "        }\n",
    "    },\n",
    "    {\n",
    "        'first_name': 'Robert',\n",
    "        'last_name': 'Miller',\n",
    "        'city': 'South Jaredburgh',\n",
    "        'email': 'robert.miller@allen.org',\n",
    "        'occupation': {\n",
    "            'company': 'Roberts-Jackson',\n",
    "            'position': 'Media planner'\n",
    "        }\n",
    "    },\n",
    "    {\n",
    "        'first_name': 'Edwin',\n",
    "        'last_name': 'Johnson',\n",
    "        'city': 'Lake Kimberly',\n",
    "        'email': 'edwin.johnson@sanders.biz',\n",
    "        'occupation': {\n",
    "            'company': 'Hart, Jones and Malone',\n",
    "            'position': 'Therapist, speech and language'\n",
    "        }\n",
    "    },\n",
    "    {\n",
    "        'first_name': 'Gail',\n",
    "        'last_name': 'Castro',\n",
    "        'city': 'Brianchester',\n",
    "        'email': 'gail.castro@suarez-sullivan.org',\n",
    "        'occupation': {\n",
    "            'company': 'Duncan-Gallagher',\n",
    "            'position': 'Designer, multimedia'\n",
    "        }\n",
    "    },\n",
    "    {\n",
    "        'first_name': 'Andre',\n",
    "        'last_name': 'Burns',\n",
    "        'city': 'New Samuelside',\n",
    "        'email': 'andre.burns@love.com',\n",
    "        'occupation': {\n",
    "            'company': 'Sanders-Ryan',\n",
    "            'position': 'Applications developer'\n",
    "        }\n",
    "    },\n",
    "    {\n",
    "        'first_name': 'Nicole',\n",
    "        'last_name': 'Maynard',\n",
    "        'city': 'Teresaville',\n",
    "        'email': 'nicole.maynard@chavez.com',\n",
    "        'occupation': {\n",
    "            'company': 'Hoffman, Reynolds and Wilson',\n",
    "            'position': 'Community education officer'\n",
    "        }\n",
    "    },\n",
    "    {\n",
    "        'first_name': 'Megan',\n",
    "        'last_name': 'Mcdonald',\n",
    "        'city': 'Walkerfurt',\n",
    "        'email': 'megan.mcdonald@guzman.info',\n",
    "        'occupation': {\n",
    "            'company': 'King Ltd',\n",
    "            'position': 'Doctor, general practice'\n",
    "        }\n",
    "    },\n",
    "    {\n",
    "        'first_name': 'Stephen',\n",
    "        'last_name': 'Young',\n",
    "        'city': 'South Jeffrey',\n",
    "        'email': 'stephen.young@smith.biz',\n",
    "        'occupation': {\n",
    "            'company': 'Hernandez LLC',\n",
    "            'position': 'Environmental manager'\n",
    "        }\n",
    "    },\n",
    "    {\n",
    "        'first_name': 'Daniel',\n",
    "        'last_name': 'Deleon',\n",
    "        'city': 'Yatesburgh',\n",
    "        'email': 'daniel.deleon@mcmahon.org',\n",
    "        'occupation': {\n",
    "            'company': 'Nelson-Wilson',\n",
    "            'position': 'Sports development officer'\n",
    "        }\n",
    "    },\n",
    "    {\n",
    "        'first_name': 'Patricia',\n",
    "        'last_name': 'Pacheco',\n",
    "        'city': 'South Donnamouth',\n",
    "        'email': 'patricia.pacheco@lee-wilson.com',\n",
    "        'occupation': {\n",
    "            'company': 'Giles, Williams and Jones',\n",
    "            'position': 'Theatre manager'\n",
    "        }\n",
    "    }\n",
    "]\n",
    "\n",
    "def get_person_info(name):\n",
    "    for person in data:\n",
    "        for val in person.values():\n",
    "            if val == name: \n",
    "                return f\"{person['occupation']['position']} at {person['occupation'] ['company']}\"\n",
    "    return -1\n",
    "\n",
    "# Brian's solution\n",
    "def get_person_info(name):\n",
    "    for person in data:\n",
    "        if person['first_name'] == name or person['last_name'] == name:\n",
    "            return person['occupation']['position'] + 'at' + person['occupation']['company']\n",
    "    return -1"
   ]
  },
  {
   "cell_type": "code",
   "execution_count": 18,
   "metadata": {},
   "outputs": [
    {
     "data": {
      "text/plain": [
       "'Records manager at Odom, Harper and Allen'"
      ]
     },
     "execution_count": 18,
     "metadata": {},
     "output_type": "execute_result"
    }
   ],
   "source": [
    "get_person_info('Adam')"
   ]
  },
  {
   "cell_type": "code",
   "execution_count": 19,
   "metadata": {},
   "outputs": [
    {
     "data": {
      "text/plain": [
       "'Applications developer at Sanders-Ryan'"
      ]
     },
     "execution_count": 19,
     "metadata": {},
     "output_type": "execute_result"
    }
   ],
   "source": [
    "get_person_info('Burns')"
   ]
  },
  {
   "cell_type": "code",
   "execution_count": 20,
   "metadata": {},
   "outputs": [
    {
     "data": {
      "text/plain": [
       "-1"
      ]
     },
     "execution_count": 20,
     "metadata": {},
     "output_type": "execute_result"
    }
   ],
   "source": [
    "get_person_info('Alice')"
   ]
  },
  {
   "cell_type": "markdown",
   "metadata": {},
   "source": [
    "### Requests Package\n",
    "<a href='https://docs.python-requests.org/en/latest/'>Docs</a>"
   ]
  },
  {
   "cell_type": "markdown",
   "metadata": {},
   "source": [
    "#### Install and import package"
   ]
  },
  {
   "cell_type": "code",
   "execution_count": 21,
   "metadata": {},
   "outputs": [
    {
     "data": {
      "text/plain": [
       "<module 'requests' from 'C:\\\\Users\\\\emili\\\\anaconda3\\\\Lib\\\\site-packages\\\\requests\\\\__init__.py'>"
      ]
     },
     "execution_count": 21,
     "metadata": {},
     "output_type": "execute_result"
    }
   ],
   "source": [
    "import requests\n",
    "\n",
    "requests"
   ]
  },
  {
   "cell_type": "code",
   "execution_count": 23,
   "metadata": {},
   "outputs": [
    {
     "name": "stdout",
     "output_type": "stream",
     "text": [
      "Requirement already satisfied: requests in c:\\users\\emili\\anaconda3\\lib\\site-packages (2.31.0)\n",
      "Requirement already satisfied: charset-normalizer<4,>=2 in c:\\users\\emili\\anaconda3\\lib\\site-packages (from requests) (2.0.4)\n",
      "Requirement already satisfied: idna<4,>=2.5 in c:\\users\\emili\\anaconda3\\lib\\site-packages (from requests) (3.4)\n",
      "Requirement already satisfied: urllib3<3,>=1.21.1 in c:\\users\\emili\\anaconda3\\lib\\site-packages (from requests) (1.26.16)\n",
      "Requirement already satisfied: certifi>=2017.4.17 in c:\\users\\emili\\anaconda3\\lib\\site-packages (from requests) (2023.7.22)\n"
     ]
    }
   ],
   "source": [
    "!pip install requests"
   ]
  },
  {
   "cell_type": "code",
   "execution_count": 24,
   "metadata": {},
   "outputs": [
    {
     "data": {
      "text/plain": [
       "<module 'requests' from 'C:\\\\Users\\\\emili\\\\anaconda3\\\\Lib\\\\site-packages\\\\requests\\\\__init__.py'>"
      ]
     },
     "execution_count": 24,
     "metadata": {},
     "output_type": "execute_result"
    }
   ],
   "source": [
    "import requests\n",
    "\n",
    "requests"
   ]
  },
  {
   "cell_type": "markdown",
   "metadata": {},
   "source": [
    "#### requests get method"
   ]
  },
  {
   "cell_type": "code",
   "execution_count": 26,
   "metadata": {},
   "outputs": [
    {
     "name": "stdout",
     "output_type": "stream",
     "text": [
      "Help on function get in module requests.api:\n",
      "\n",
      "get(url, params=None, **kwargs)\n",
      "    Sends a GET request.\n",
      "    \n",
      "    :param url: URL for the new :class:`Request` object.\n",
      "    :param params: (optional) Dictionary, list of tuples or bytes to send\n",
      "        in the query string for the :class:`Request`.\n",
      "    :param \\*\\*kwargs: Optional arguments that ``request`` takes.\n",
      "    :return: :class:`Response <Response>` object\n",
      "    :rtype: requests.Response\n",
      "\n"
     ]
    }
   ],
   "source": [
    "help(requests.get)"
   ]
  },
  {
   "cell_type": "code",
   "execution_count": 27,
   "metadata": {},
   "outputs": [
    {
     "name": "stdout",
     "output_type": "stream",
     "text": [
      "<Response [200]>\n"
     ]
    }
   ],
   "source": [
    "response = requests.get('https://www.codingtemple.com')\n",
    "print(response)"
   ]
  },
  {
   "cell_type": "markdown",
   "metadata": {},
   "source": [
    "#### Response object"
   ]
  },
  {
   "cell_type": "code",
   "execution_count": 28,
   "metadata": {},
   "outputs": [
    {
     "data": {
      "text/plain": [
       "requests.models.Response"
      ]
     },
     "execution_count": 28,
     "metadata": {},
     "output_type": "execute_result"
    }
   ],
   "source": [
    "type(response)"
   ]
  },
  {
   "cell_type": "code",
   "execution_count": 31,
   "metadata": {
    "scrolled": true
   },
   "outputs": [
    {
     "name": "stdout",
     "output_type": "stream",
     "text": [
      "Help on Response in module requests.models object:\n",
      "\n",
      "class Response(builtins.object)\n",
      " |  The :class:`Response <Response>` object, which contains a\n",
      " |  server's response to an HTTP request.\n",
      " |  \n",
      " |  Methods defined here:\n",
      " |  \n",
      " |  __bool__(self)\n",
      " |      Returns True if :attr:`status_code` is less than 400.\n",
      " |      \n",
      " |      This attribute checks if the status code of the response is between\n",
      " |      400 and 600 to see if there was a client error or a server error. If\n",
      " |      the status code, is between 200 and 400, this will return True. This\n",
      " |      is **not** a check to see if the response code is ``200 OK``.\n",
      " |  \n",
      " |  __enter__(self)\n",
      " |  \n",
      " |  __exit__(self, *args)\n",
      " |  \n",
      " |  __getstate__(self)\n",
      " |      Helper for pickle.\n",
      " |  \n",
      " |  __init__(self)\n",
      " |      Initialize self.  See help(type(self)) for accurate signature.\n",
      " |  \n",
      " |  __iter__(self)\n",
      " |      Allows you to use a response as an iterator.\n",
      " |  \n",
      " |  __nonzero__(self)\n",
      " |      Returns True if :attr:`status_code` is less than 400.\n",
      " |      \n",
      " |      This attribute checks if the status code of the response is between\n",
      " |      400 and 600 to see if there was a client error or a server error. If\n",
      " |      the status code, is between 200 and 400, this will return True. This\n",
      " |      is **not** a check to see if the response code is ``200 OK``.\n",
      " |  \n",
      " |  __repr__(self)\n",
      " |      Return repr(self).\n",
      " |  \n",
      " |  __setstate__(self, state)\n",
      " |  \n",
      " |  close(self)\n",
      " |      Releases the connection back to the pool. Once this method has been\n",
      " |      called the underlying ``raw`` object must not be accessed again.\n",
      " |      \n",
      " |      *Note: Should not normally need to be called explicitly.*\n",
      " |  \n",
      " |  iter_content(self, chunk_size=1, decode_unicode=False)\n",
      " |      Iterates over the response data.  When stream=True is set on the\n",
      " |      request, this avoids reading the content at once into memory for\n",
      " |      large responses.  The chunk size is the number of bytes it should\n",
      " |      read into memory.  This is not necessarily the length of each item\n",
      " |      returned as decoding can take place.\n",
      " |      \n",
      " |      chunk_size must be of type int or None. A value of None will\n",
      " |      function differently depending on the value of `stream`.\n",
      " |      stream=True will read data as it arrives in whatever size the\n",
      " |      chunks are received. If stream=False, data is returned as\n",
      " |      a single chunk.\n",
      " |      \n",
      " |      If decode_unicode is True, content will be decoded using the best\n",
      " |      available encoding based on the response.\n",
      " |  \n",
      " |  iter_lines(self, chunk_size=512, decode_unicode=False, delimiter=None)\n",
      " |      Iterates over the response data, one line at a time.  When\n",
      " |      stream=True is set on the request, this avoids reading the\n",
      " |      content at once into memory for large responses.\n",
      " |      \n",
      " |      .. note:: This method is not reentrant safe.\n",
      " |  \n",
      " |  json(self, **kwargs)\n",
      " |      Returns the json-encoded content of a response, if any.\n",
      " |      \n",
      " |      :param \\*\\*kwargs: Optional arguments that ``json.loads`` takes.\n",
      " |      :raises requests.exceptions.JSONDecodeError: If the response body does not\n",
      " |          contain valid json.\n",
      " |  \n",
      " |  raise_for_status(self)\n",
      " |      Raises :class:`HTTPError`, if one occurred.\n",
      " |  \n",
      " |  ----------------------------------------------------------------------\n",
      " |  Readonly properties defined here:\n",
      " |  \n",
      " |  apparent_encoding\n",
      " |      The apparent encoding, provided by the charset_normalizer or chardet libraries.\n",
      " |  \n",
      " |  content\n",
      " |      Content of the response, in bytes.\n",
      " |  \n",
      " |  is_permanent_redirect\n",
      " |      True if this Response one of the permanent versions of redirect.\n",
      " |  \n",
      " |  is_redirect\n",
      " |      True if this Response is a well-formed HTTP redirect that could have\n",
      " |      been processed automatically (by :meth:`Session.resolve_redirects`).\n",
      " |  \n",
      " |  links\n",
      " |      Returns the parsed header links of the response, if any.\n",
      " |  \n",
      " |  next\n",
      " |      Returns a PreparedRequest for the next request in a redirect chain, if there is one.\n",
      " |  \n",
      " |  ok\n",
      " |      Returns True if :attr:`status_code` is less than 400, False if not.\n",
      " |      \n",
      " |      This attribute checks if the status code of the response is between\n",
      " |      400 and 600 to see if there was a client error or a server error. If\n",
      " |      the status code is between 200 and 400, this will return True. This\n",
      " |      is **not** a check to see if the response code is ``200 OK``.\n",
      " |  \n",
      " |  text\n",
      " |      Content of the response, in unicode.\n",
      " |      \n",
      " |      If Response.encoding is None, encoding will be guessed using\n",
      " |      ``charset_normalizer`` or ``chardet``.\n",
      " |      \n",
      " |      The encoding of the response content is determined based solely on HTTP\n",
      " |      headers, following RFC 2616 to the letter. If you can take advantage of\n",
      " |      non-HTTP knowledge to make a better guess at the encoding, you should\n",
      " |      set ``r.encoding`` appropriately before accessing this property.\n",
      " |  \n",
      " |  ----------------------------------------------------------------------\n",
      " |  Data descriptors defined here:\n",
      " |  \n",
      " |  __dict__\n",
      " |      dictionary for instance variables (if defined)\n",
      " |  \n",
      " |  __weakref__\n",
      " |      list of weak references to the object (if defined)\n",
      " |  \n",
      " |  ----------------------------------------------------------------------\n",
      " |  Data and other attributes defined here:\n",
      " |  \n",
      " |  __attrs__ = ['_content', 'status_code', 'headers', 'url', 'history', '...\n",
      "\n"
     ]
    }
   ],
   "source": [
    "help(response)"
   ]
  },
  {
   "cell_type": "code",
   "execution_count": 32,
   "metadata": {},
   "outputs": [
    {
     "data": {
      "text/plain": [
       "200"
      ]
     },
     "execution_count": 32,
     "metadata": {},
     "output_type": "execute_result"
    }
   ],
   "source": [
    "response.status_code"
   ]
  },
  {
   "cell_type": "code",
   "execution_count": 33,
   "metadata": {},
   "outputs": [
    {
     "data": {
      "text/plain": [
       "{'Server': 'Sucuri/Cloudproxy', 'Date': 'Wed, 04 Oct 2023 18:58:32 GMT', 'Content-Type': 'text/html; charset=UTF-8', 'Content-Length': '21860', 'Connection': 'keep-alive', 'X-Sucuri-ID': '11008', 'X-XSS-Protection': '1; mode=block', 'X-Frame-Options': 'SAMEORIGIN', 'X-Content-Type-Options': 'nosniff', 'Content-Security-Policy': 'upgrade-insecure-requests;', 'Expires': 'Thu, 19 Nov 1981 08:52:00 GMT', 'Cache-Control': 'no-store, no-cache, must-revalidate', 'Pragma': 'no-cache', 'Link': '<https://www.codingtemple.com/wp-json/>; rel=\"https://api.w.org/\", <https://www.codingtemple.com/wp-json/wp/v2/pages/6>; rel=\"alternate\"; type=\"application/json\", <https://www.codingtemple.com/>; rel=shortlink', 'Set-Cookie': 'PHPSESSID=5c24a36212ef149739e296abf28d6548; path=/; secure; HttpOnly, pbid=f9885ef3e1d238c5609ee6c997d827cb70310696176373e40f37dff2b61ffc48; expires=Mon, 01-Apr-2024 18:58:32 GMT; Max-Age=15552000; path=/', 'Vary': 'Accept-Encoding', 'Content-Encoding': 'br', 'X-Sucuri-Cache': 'MISS'}"
      ]
     },
     "execution_count": 33,
     "metadata": {},
     "output_type": "execute_result"
    }
   ],
   "source": [
    "response.headers"
   ]
  },
  {
   "cell_type": "code",
   "execution_count": 34,
   "metadata": {},
   "outputs": [
    {
     "data": {
      "text/plain": [
       "True"
      ]
     },
     "execution_count": 34,
     "metadata": {},
     "output_type": "execute_result"
    }
   ],
   "source": [
    "response.ok"
   ]
  },
  {
   "cell_type": "markdown",
   "metadata": {},
   "source": [
    "#### .content"
   ]
  },
  {
   "cell_type": "code",
   "execution_count": 38,
   "metadata": {},
   "outputs": [],
   "source": [
    "# response.content"
   ]
  },
  {
   "cell_type": "markdown",
   "metadata": {},
   "source": [
    "#### .text"
   ]
  },
  {
   "cell_type": "code",
   "execution_count": 37,
   "metadata": {
    "scrolled": true
   },
   "outputs": [],
   "source": [
    "# print(response.text)"
   ]
  },
  {
   "cell_type": "code",
   "execution_count": 40,
   "metadata": {},
   "outputs": [
    {
     "name": "stdout",
     "output_type": "stream",
     "text": [
      "True\n"
     ]
    }
   ],
   "source": [
    "print(response.ok)"
   ]
  },
  {
   "cell_type": "markdown",
   "metadata": {},
   "source": [
    "#### JSON Response"
   ]
  },
  {
   "cell_type": "code",
   "execution_count": 46,
   "metadata": {},
   "outputs": [
    {
     "name": "stdout",
     "output_type": "stream",
     "text": [
      "<Response [200]>\n"
     ]
    }
   ],
   "source": [
    "# JSON - JavaScript Object Notation\n",
    "# {\"key1\": value, \"key2\": value, etc}\n",
    "\n",
    "poke_res = requests.get('https://pokeapi.co/api/v2/pokemon/pikachu')\n",
    "print(poke_res)"
   ]
  },
  {
   "cell_type": "code",
   "execution_count": 47,
   "metadata": {
    "scrolled": true
   },
   "outputs": [
    {
     "data": {
      "text/plain": [
       "True"
      ]
     },
     "execution_count": 47,
     "metadata": {},
     "output_type": "execute_result"
    }
   ],
   "source": [
    "poke_res.ok"
   ]
  },
  {
   "cell_type": "code",
   "execution_count": 48,
   "metadata": {},
   "outputs": [
    {
     "data": {
      "text/plain": [
       "dict"
      ]
     },
     "execution_count": 48,
     "metadata": {},
     "output_type": "execute_result"
    }
   ],
   "source": [
    "data = poke_res.json()\n",
    "type(data)"
   ]
  },
  {
   "cell_type": "code",
   "execution_count": 49,
   "metadata": {
    "scrolled": true
   },
   "outputs": [
    {
     "data": {
      "text/plain": [
       "dict_keys(['abilities', 'base_experience', 'forms', 'game_indices', 'height', 'held_items', 'id', 'is_default', 'location_area_encounters', 'moves', 'name', 'order', 'past_types', 'species', 'sprites', 'stats', 'types', 'weight'])"
      ]
     },
     "execution_count": 49,
     "metadata": {},
     "output_type": "execute_result"
    }
   ],
   "source": [
    "data.keys()"
   ]
  },
  {
   "cell_type": "code",
   "execution_count": 50,
   "metadata": {},
   "outputs": [
    {
     "name": "stdout",
     "output_type": "stream",
     "text": [
      "static\n",
      "lightning-rod\n"
     ]
    }
   ],
   "source": [
    "for ability in data.get('abilities'):\n",
    "    print(ability['ability']['name'])"
   ]
  },
  {
   "cell_type": "code",
   "execution_count": 51,
   "metadata": {
    "scrolled": true
   },
   "outputs": [
    {
     "name": "stdout",
     "output_type": "stream",
     "text": [
      "mega-punch\n",
      "pay-day\n",
      "thunder-punch\n",
      "slam\n",
      "double-kick\n",
      "mega-kick\n",
      "headbutt\n",
      "body-slam\n",
      "take-down\n",
      "double-edge\n",
      "tail-whip\n",
      "growl\n",
      "surf\n",
      "submission\n",
      "counter\n",
      "seismic-toss\n",
      "strength\n",
      "thunder-shock\n",
      "thunderbolt\n",
      "thunder-wave\n",
      "thunder\n",
      "dig\n",
      "toxic\n",
      "agility\n",
      "quick-attack\n",
      "rage\n",
      "mimic\n",
      "double-team\n",
      "defense-curl\n",
      "light-screen\n",
      "reflect\n",
      "bide\n",
      "swift\n",
      "skull-bash\n",
      "flash\n",
      "rest\n",
      "substitute\n",
      "thief\n",
      "snore\n",
      "curse\n",
      "reversal\n",
      "protect\n",
      "sweet-kiss\n",
      "mud-slap\n",
      "zap-cannon\n",
      "detect\n",
      "endure\n",
      "charm\n",
      "rollout\n",
      "swagger\n",
      "spark\n",
      "attract\n",
      "sleep-talk\n",
      "return\n",
      "frustration\n",
      "dynamic-punch\n",
      "encore\n",
      "iron-tail\n",
      "hidden-power\n",
      "rain-dance\n",
      "rock-smash\n",
      "uproar\n",
      "facade\n",
      "focus-punch\n",
      "helping-hand\n",
      "brick-break\n",
      "knock-off\n",
      "secret-power\n",
      "fake-tears\n",
      "signal-beam\n",
      "covet\n",
      "volt-tackle\n",
      "calm-mind\n",
      "shock-wave\n",
      "natural-gift\n",
      "feint\n",
      "fling\n",
      "magnet-rise\n",
      "nasty-plot\n",
      "discharge\n",
      "captivate\n",
      "grass-knot\n",
      "charge-beam\n",
      "electro-ball\n",
      "round\n",
      "echoed-voice\n",
      "volt-switch\n",
      "electroweb\n",
      "wild-charge\n",
      "disarming-voice\n",
      "draining-kiss\n",
      "play-rough\n",
      "play-nice\n",
      "confide\n",
      "eerie-impulse\n",
      "electric-terrain\n",
      "nuzzle\n",
      "laser-focus\n",
      "rising-voltage\n",
      "tera-blast\n",
      "trailblaze\n"
     ]
    }
   ],
   "source": [
    "for move in data.get('moves'):\n",
    "    print(move['move']['name'])"
   ]
  },
  {
   "cell_type": "code",
   "execution_count": null,
   "metadata": {
    "scrolled": true
   },
   "outputs": [],
   "source": []
  },
  {
   "cell_type": "markdown",
   "metadata": {},
   "source": [
    "### Python Wrappers"
   ]
  },
  {
   "cell_type": "code",
   "execution_count": 54,
   "metadata": {},
   "outputs": [
    {
     "name": "stdout",
     "output_type": "stream",
     "text": [
      "http://api.weatherapi.com/v1/current.json?key=694fcda006794a1f9a5194313230410&q=Lahaina\n"
     ]
    }
   ],
   "source": [
    "base_url = 'http://api.weatherapi.com/v1'\n",
    "api_method = '/current.json'\n",
    "api_key = '694fcda006794a1f9a5194313230410'\n",
    "city = 'Lahaina'\n",
    "\n",
    "request_url = f\"{base_url}{api_method}?key={api_key}&q={city}\"\n",
    "print(request_url)"
   ]
  },
  {
   "cell_type": "code",
   "execution_count": 55,
   "metadata": {},
   "outputs": [
    {
     "data": {
      "text/plain": [
       "{'location': {'name': 'Lahaina',\n",
       "  'region': 'Hawaii',\n",
       "  'country': 'United States of America',\n",
       "  'lat': 20.88,\n",
       "  'lon': -156.68,\n",
       "  'tz_id': 'Pacific/Honolulu',\n",
       "  'localtime_epoch': 1696449754,\n",
       "  'localtime': '2023-10-04 10:02'},\n",
       " 'current': {'last_updated_epoch': 1696449600,\n",
       "  'last_updated': '2023-10-04 10:00',\n",
       "  'temp_c': 28.0,\n",
       "  'temp_f': 82.4,\n",
       "  'is_day': 1,\n",
       "  'condition': {'text': 'Partly cloudy',\n",
       "   'icon': '//cdn.weatherapi.com/weather/64x64/day/116.png',\n",
       "   'code': 1003},\n",
       "  'wind_mph': 6.9,\n",
       "  'wind_kph': 11.2,\n",
       "  'wind_degree': 350,\n",
       "  'wind_dir': 'N',\n",
       "  'pressure_mb': 1014.0,\n",
       "  'pressure_in': 29.95,\n",
       "  'precip_mm': 0.0,\n",
       "  'precip_in': 0.0,\n",
       "  'humidity': 62,\n",
       "  'cloud': 25,\n",
       "  'feelslike_c': 30.3,\n",
       "  'feelslike_f': 86.5,\n",
       "  'vis_km': 16.0,\n",
       "  'vis_miles': 9.0,\n",
       "  'uv': 7.0,\n",
       "  'gust_mph': 2.1,\n",
       "  'gust_kph': 3.3}}"
      ]
     },
     "execution_count": 55,
     "metadata": {},
     "output_type": "execute_result"
    }
   ],
   "source": [
    "res = requests.get(request_url)\n",
    "weather_data = res.json()\n",
    "weather_data"
   ]
  },
  {
   "cell_type": "code",
   "execution_count": 57,
   "metadata": {},
   "outputs": [
    {
     "name": "stdout",
     "output_type": "stream",
     "text": [
      "<class 'dict'>\n"
     ]
    }
   ],
   "source": [
    "print(type(weather_data))"
   ]
  },
  {
   "cell_type": "code",
   "execution_count": 68,
   "metadata": {},
   "outputs": [
    {
     "name": "stdout",
     "output_type": "stream",
     "text": [
      "82.4\n",
      "Current temp: 82.4\n",
      "Feels Like: 86.5\n",
      "Condition Partly cloudy\n",
      "City: Lahaina\n",
      "Region: Hawaii\n"
     ]
    }
   ],
   "source": [
    "current_temp = weather_data['current']['temp_f']\n",
    "print(current_temp)\n",
    "print('Current temp:', current_temp)\n",
    "\n",
    "feels_like = weather_data['current']['feelslike_f']\n",
    "print('Feels Like:', feels_like)\n",
    "\n",
    "condition = weather_data['current']['condition']['text']\n",
    "print('Condition', condition)\n",
    "\n",
    "city = weather_data['location']['name']\n",
    "print('City:', city)\n",
    "\n",
    "region = weather_data['location']['region']\n",
    "print('Region:', region)"
   ]
  },
  {
   "cell_type": "code",
   "execution_count": 73,
   "metadata": {},
   "outputs": [],
   "source": [
    "class CityWeather:\n",
    "    def __init__(self, name, region, current, feels_like, condition):\n",
    "        self.city = name\n",
    "        self.region = region\n",
    "        self.current_temp = current\n",
    "        self.feels_like = feels_like\n",
    "        self.condition = condition\n",
    "        \n",
    "    def __str__(self):\n",
    "        return f\"It is currently {self.condition} and {self.current_temp} in {self.city}, {self.region}. \\\n",
    "It feels like {self.feels_like}.\"\n",
    "    \n",
    "class CityAstronomy:\n",
    "    def __init__(self, name, region, sunrise, sunset, moonrise, moonset, moonphase):\n",
    "        self.city = name\n",
    "        self.region = region\n",
    "        self.sunrise = sunrise\n",
    "        self.sunset = sunset\n",
    "        self.moonrise = moonrise\n",
    "        self.moonset = moonset\n",
    "        self.moon_phase = moonphase\n",
    "        \n",
    "    def __str__(self):\n",
    "        return f\"City: {self.city}\\nSunrise: {self.sunrise}\\nSunset:{self.sunset}\"    \n",
    "\n",
    "\n",
    "class WeatherAPI:\n",
    "    base_url = 'https://api.weatherapi.com/v1'\n",
    "    \n",
    "    def __init__(self, api_key):\n",
    "        self.api_key = api_key\n",
    "        \n",
    "    # Private method that will set up the request url, make the request, return the response data\n",
    "    # The _ before the function name is a naming convention to signal this is a private method\n",
    "    def _get(self, city, api_method):\n",
    "        request_url = f\"{self.base_url}{api_method}?key={self.api_key}&q={city}\"\n",
    "        response = requests.get(request_url)\n",
    "        if response.ok:\n",
    "            data = response.json()\n",
    "            return data\n",
    "        else:\n",
    "            return None\n",
    "        \n",
    "        \n",
    "    # Public method that will call the private method and create a Weather Object with the data\n",
    "    def get_current_weather(self, city):\n",
    "        weather_data = self._get(city, '/current.json')\n",
    "        if weather_data:\n",
    "            city = weather_data['location']['name']\n",
    "            region = weather_data['location']['region']\n",
    "            current_temp = weather_data['current']['temp_f']\n",
    "            feels_like = weather_data['current']['feelslike_f']\n",
    "            condition = weather_data['current']['condition']['text']\n",
    "            city_obj = CityWeather(city, region, current_temp, feels_like, condition)\n",
    "            return city_obj\n",
    "        else:\n",
    "            print('Something went wrong')\n",
    "            return None\n",
    "        \n",
    "    # Public method that will call the private method and create an Astronomy object with the data\n",
    "    def get_astronomy(self, city):\n",
    "        astronomy_data = self._get(city, '/astronomy.json')\n",
    "        if astronomy_data:\n",
    "            city = astronomy_data['location']['name']\n",
    "            region = astronomy_data['location']['region']\n",
    "            sunrise = astronomy_data['astronomy']['astro']['sunrise']\n",
    "            sunset = astronomy_data['astronomy']['astro']['sunset']\n",
    "            moonrise = astronomy_data['astronomy']['astro']['moonrise']\n",
    "            moonset = astronomy_data['astronomy']['astro']['moonset']\n",
    "            moon_phase = astronomy_data['astronomy']['astro']['moon_phase']\n",
    "            astro_obj = CityAstronomy(city, region, sunrise, sunset, moonrise, moonset, moon_phase)\n",
    "            return astro_obj\n",
    "        else:\n",
    "            print('Something went wrong')\n",
    "            return None \n",
    "                "
   ]
  },
  {
   "cell_type": "code",
   "execution_count": 83,
   "metadata": {},
   "outputs": [
    {
     "name": "stdout",
     "output_type": "stream",
     "text": [
      "<__main__.WeatherAPI object at 0x00000282C7701790>\n"
     ]
    }
   ],
   "source": [
    "client = WeatherAPI('694fcda006794a1f9a5194313230410')\n",
    "print(client)"
   ]
  },
  {
   "cell_type": "code",
   "execution_count": 84,
   "metadata": {},
   "outputs": [
    {
     "name": "stdout",
     "output_type": "stream",
     "text": [
      "It is currently Partly cloudy and 82.4 in Lahaina, Hawaii.         It feels like 86.5.\n"
     ]
    }
   ],
   "source": [
    "lahaina = client.get_current_weather('Lahaina')\n",
    "print(lahaina)"
   ]
  },
  {
   "cell_type": "code",
   "execution_count": 85,
   "metadata": {},
   "outputs": [
    {
     "data": {
      "text/plain": [
       "86.5"
      ]
     },
     "execution_count": 85,
     "metadata": {},
     "output_type": "execute_result"
    }
   ],
   "source": [
    "lahaina.feels_like"
   ]
  },
  {
   "cell_type": "code",
   "execution_count": 86,
   "metadata": {},
   "outputs": [
    {
     "data": {
      "text/plain": [
       "'Partly cloudy'"
      ]
     },
     "execution_count": 86,
     "metadata": {},
     "output_type": "execute_result"
    }
   ],
   "source": [
    "lahaina.condition"
   ]
  },
  {
   "cell_type": "code",
   "execution_count": 89,
   "metadata": {},
   "outputs": [
    {
     "ename": "AttributeError",
     "evalue": "'WeatherAPI' object has no attribute 'get_current'",
     "output_type": "error",
     "traceback": [
      "\u001b[1;31m---------------------------------------------------------------------------\u001b[0m",
      "\u001b[1;31mAttributeError\u001b[0m                            Traceback (most recent call last)",
      "Cell \u001b[1;32mIn[89], line 1\u001b[0m\n\u001b[1;32m----> 1\u001b[0m kahului \u001b[38;5;241m=\u001b[39m client\u001b[38;5;241m.\u001b[39mget_current\u001b[38;5;241m-\u001b[39mweather(\u001b[38;5;124m'\u001b[39m\u001b[38;5;124mKahului\u001b[39m\u001b[38;5;124m'\u001b[39m)\n\u001b[0;32m      2\u001b[0m \u001b[38;5;28mprint\u001b[39m(kahului)\n",
      "\u001b[1;31mAttributeError\u001b[0m: 'WeatherAPI' object has no attribute 'get_current'"
     ]
    }
   ],
   "source": [
    "kahului = client.get_current-weather('Kahului')\n",
    "print(kahului)"
   ]
  },
  {
   "cell_type": "code",
   "execution_count": 90,
   "metadata": {},
   "outputs": [
    {
     "data": {
      "text/plain": [
       "<__main__.CityAstronomy at 0x282c7108510>"
      ]
     },
     "execution_count": 90,
     "metadata": {},
     "output_type": "execute_result"
    }
   ],
   "source": [
    "aina_astro = client.get_astronomy('Lahaina')\n",
    "aina_astro"
   ]
  },
  {
   "cell_type": "code",
   "execution_count": 91,
   "metadata": {},
   "outputs": [
    {
     "data": {
      "text/plain": [
       "'06:18 AM'"
      ]
     },
     "execution_count": 91,
     "metadata": {},
     "output_type": "execute_result"
    }
   ],
   "source": [
    "aina_astro.sunrise"
   ]
  },
  {
   "cell_type": "code",
   "execution_count": 92,
   "metadata": {},
   "outputs": [
    {
     "data": {
      "text/plain": [
       "'Waning Gibbous'"
      ]
     },
     "execution_count": 92,
     "metadata": {},
     "output_type": "execute_result"
    }
   ],
   "source": [
    "aina_astro.moon_phase"
   ]
  },
  {
   "cell_type": "code",
   "execution_count": 93,
   "metadata": {},
   "outputs": [
    {
     "name": "stdout",
     "output_type": "stream",
     "text": [
      "Welcome to the weather app. It will tell you the weather for a city\n",
      "You need an API Key to use this. Please enter that here: 694fcda006794a1f9a5194313230410\n",
      "Enter city name: Sao Paulo\n",
      "It is currently Partly cloudy and 82.4 in Lahaina, Hawaii.         It feels like 86.5.\n",
      "Enter city name: Kahului\n",
      "It is currently Partly cloudy and 82.4 in Lahaina, Hawaii.         It feels like 86.5.\n",
      "Enter city name: Honolulu\n",
      "It is currently Partly cloudy and 82.4 in Lahaina, Hawaii.         It feels like 86.5.\n",
      "Enter city name: Hahahahhahaha\n",
      "It is currently Partly cloudy and 82.4 in Lahaina, Hawaii.         It feels like 86.5.\n",
      "Enter city name: quit\n"
     ]
    }
   ],
   "source": [
    "def main():\n",
    "    print('Welcome to the weather app. It will tell you the weather for a city')\n",
    "    api = input('You need an API Key to use this. Please enter that here: ')\n",
    "    client = WeatherAPI(api)\n",
    "    while True:\n",
    "        city = input('Enter city name: ').title()\n",
    "        if city.lower() == 'quit':\n",
    "            break\n",
    "        weather = client.get_current_weather(city)\n",
    "        print(weather)\n",
    "        \n",
    "        \n",
    "main()"
   ]
  },
  {
   "cell_type": "markdown",
   "metadata": {},
   "source": [
    "# Exercise"
   ]
  },
  {
   "cell_type": "markdown",
   "metadata": {},
   "source": [
    "#### Pokemon API Wrapper"
   ]
  },
  {
   "cell_type": "markdown",
   "metadata": {},
   "source": [
    "Create a python wrapper for the Pokemon API. It should take in a pokemon name and create a Pokemon object. The Pokemon object should have, at a minimum, the Pokemon's name, height, and weight."
   ]
  },
  {
   "cell_type": "code",
   "execution_count": 1,
   "metadata": {},
   "outputs": [
    {
     "name": "stdout",
     "output_type": "stream",
     "text": [
      "Requirement already satisfied: requests in c:\\users\\emili\\anaconda3\\lib\\site-packages (2.31.0)\n",
      "Requirement already satisfied: charset-normalizer<4,>=2 in c:\\users\\emili\\anaconda3\\lib\\site-packages (from requests) (2.0.4)\n",
      "Requirement already satisfied: idna<4,>=2.5 in c:\\users\\emili\\anaconda3\\lib\\site-packages (from requests) (3.4)\n",
      "Requirement already satisfied: urllib3<3,>=1.21.1 in c:\\users\\emili\\anaconda3\\lib\\site-packages (from requests) (1.26.16)\n",
      "Requirement already satisfied: certifi>=2017.4.17 in c:\\users\\emili\\anaconda3\\lib\\site-packages (from requests) (2023.7.22)\n",
      "Note: you may need to restart the kernel to use updated packages.\n"
     ]
    }
   ],
   "source": [
    "pip install requests\n"
   ]
  },
  {
   "cell_type": "code",
   "execution_count": null,
   "metadata": {},
   "outputs": [],
   "source": [
    "import requests\n",
    "class Pokemon:\n",
    "    def __init__(self, name, height, weight):\n",
    "        self.name =  name\n",
    "        self.height = height\n",
    "        self.weight = weight\n",
    "        \n",
    "    def __str__(self):\n",
    "        return f\"This Pokemon is called {self.name} and is {self.height} tall and weights {self.weight}\"\n",
    " "
   ]
  },
  {
   "cell_type": "code",
   "execution_count": 21,
   "metadata": {},
   "outputs": [
    {
     "name": "stdout",
     "output_type": "stream",
     "text": [
      "This Pokemon is called pikachu and is 4 tall and weights 60\n"
     ]
    }
   ],
   "source": [
    "def get_Pokemon(name):\n",
    "    url = f\"https://pokeapi.co/api/v2/pokemon/{name}\"\n",
    "    response = requests.get(url)\n",
    "    data = response.json()\n",
    "    name = data['forms'][0]['name']\n",
    "    height = data['height']\n",
    "    weight = data['weight']\n",
    "    new_poke = Pokemon(name, height, weight)\n",
    "    print(new_poke.__str__())\n",
    "    \n",
    "get_Pokemon('pikachu')    \n"
   ]
  },
  {
   "cell_type": "code",
   "execution_count": null,
   "metadata": {},
   "outputs": [
    {
     "name": "stdout",
     "output_type": "stream",
     "text": [
      ">>> Get Pokemon Info <<<\n",
      "Enter Pokemon name: ditto\n",
      "This Pokemon is called ditto and is 3 tall and weights 40\n",
      "Enter Pokemon name: pikachu\n",
      "This Pokemon is called pikachu and is 4 tall and weights 60\n",
      "Enter Pokemon name: 42\n",
      "This Pokemon is called golbat and is 16 tall and weights 550\n"
     ]
    }
   ],
   "source": [
    "def main():\n",
    "    print('>>> Get Pokemon Info <<<')\n",
    "    while True:\n",
    "        pokename = input('Enter Pokemon name: ')\n",
    "        get_Pokemon(pokename)\n",
    "        if pokename.lower() == 'quit':\n",
    "            break\n",
    "            \n",
    "main()            "
   ]
  },
  {
   "cell_type": "code",
   "execution_count": null,
   "metadata": {},
   "outputs": [],
   "source": [
    "# class PokemonAPI(Pokemon):\n",
    "# #     api_call = \"https://pokeapi.co/api/v2/\" ?\n",
    "    \n",
    "#     def __init__(self, name, height, weight):\n",
    "#         self.api_call = \"https://pokeapi.co/api/v2/\"\n",
    "        \n",
    "#     def _get(self, endpoint, id_or_name):\n",
    "#         request_url = self.api_call + endpoint + id_or_name\n",
    "#         res = requests.get(api_call)\n",
    "#         if res.ok:\n",
    "#             return res.json()\n",
    "#         else:\n",
    "#             print(\"Oops! Sum Tim Wong!\")\n",
    "#             return None\n",
    "\n",
    "#     def get_pokemon(self):\n",
    "#         self._get('pokemon/', pokename.lower())\n",
    "#         data = res.json()\n",
    "#         if data:\n",
    "#             name = data.get['name']\n",
    "#             height = data.get['height']\n",
    "#             weight = data.get['weight']\n",
    "#             pokemon = Pokemon(name, height, weight)\n",
    "#             return pokemon\n",
    "#         else:\n",
    "#             print(\"Oops! Sum Tim Wong!\")\n",
    "#             return None\n",
    "\n",
    "# client = PokemonAPI() # what is client??? why do I need client?"
   ]
  },
  {
   "cell_type": "code",
   "execution_count": null,
   "metadata": {},
   "outputs": [],
   "source": []
  },
  {
   "cell_type": "code",
   "execution_count": null,
   "metadata": {},
   "outputs": [],
   "source": []
  },
  {
   "cell_type": "code",
   "execution_count": null,
   "metadata": {},
   "outputs": [],
   "source": []
  }
 ],
 "metadata": {
  "kernelspec": {
   "display_name": "Python 3 (ipykernel)",
   "language": "python",
   "name": "python3"
  },
  "language_info": {
   "codemirror_mode": {
    "name": "ipython",
    "version": 3
   },
   "file_extension": ".py",
   "mimetype": "text/x-python",
   "name": "python",
   "nbconvert_exporter": "python",
   "pygments_lexer": "ipython3",
   "version": "3.11.4"
  }
 },
 "nbformat": 4,
 "nbformat_minor": 4
}
